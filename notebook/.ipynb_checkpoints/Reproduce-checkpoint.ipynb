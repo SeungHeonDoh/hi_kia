{
 "cells": [
  {
   "cell_type": "code",
   "execution_count": 16,
   "id": "4077c8ff",
   "metadata": {},
   "outputs": [],
   "source": [
    "import os\n",
    "import torch\n",
    "import pandas as pd\n",
    "import numpy as np\n",
    "from sklearn.metrics import accuracy_score, balanced_accuracy_score, precision_recall_fscore_support, confusion_matrix, ConfusionMatrixDisplay\n",
    "df_human= pd.read_csv(\"../dataset/annotation/human.csv\")"
   ]
  },
  {
   "cell_type": "code",
   "execution_count": 13,
   "id": "0f9168b8",
   "metadata": {},
   "outputs": [],
   "source": [
    "fold_case = [\"M1\",\"M2\",\"M3\",\"M4\",\"F5\",\"F6\",\"F7\",\"F8\"]"
   ]
  },
  {
   "cell_type": "code",
   "execution_count": 10,
   "id": "c12b6fb0",
   "metadata": {},
   "outputs": [],
   "source": [
    "label = df['EMOTION']\n",
    "predicts = []\n",
    "HWA = []\n",
    "HUA = []\n",
    "for human in [\"V1\",\"V2\",\"V3\",\"V4\",\"V5\",\"V6\",\"V7\",\"V8\"]:\n",
    "    predict = df_human[human]\n",
    "    WA = accuracy_score(label, predict)\n",
    "    UA = balanced_accuracy_score(label, predict)\n",
    "    HWA.append(WA)\n",
    "    HUA.append(UA)\n",
    "    predicts.append(predict)"
   ]
  },
  {
   "cell_type": "code",
   "execution_count": 9,
   "id": "15c75457",
   "metadata": {},
   "outputs": [
    {
     "data": {
      "text/plain": [
       "(0.6316598360655739, 0.6231126546181222)"
      ]
     },
     "execution_count": 9,
     "metadata": {},
     "output_type": "execute_result"
    }
   ],
   "source": [
    "np.mean(HWA), np.mean(HUA)"
   ]
  },
  {
   "cell_type": "code",
   "execution_count": 14,
   "id": "fc7152c7",
   "metadata": {},
   "outputs": [],
   "source": [
    "def dl_performance(fold_case, feature):\n",
    "    dl_samples = []\n",
    "    dl_pred = []\n",
    "    dl_label = []\n",
    "    for fold in fold_case:\n",
    "        inference = torch.load(f\"../exp/HIKIA/{fold}/{feature}/inference.pt\")\n",
    "        dl_samples.extend(list(inference['fnames']))\n",
    "        dl_pred.extend(list(inference['y_pred']))\n",
    "        dl_label.extend(list(inference['y_true']))\n",
    "\n",
    "    results_dl = pd.DataFrame(index=dl_samples)\n",
    "    results_dl['all_preds'] = dl_pred\n",
    "    results_dl['all_labels'] = dl_label\n",
    "    WA = accuracy_score(results_dl['all_labels'], results_dl['all_preds'])\n",
    "    UA = balanced_accuracy_score(results_dl['all_labels'], results_dl['all_preds'])\n",
    "    return WA, UA"
   ]
  },
  {
   "cell_type": "code",
   "execution_count": 17,
   "id": "a2b7edc9",
   "metadata": {},
   "outputs": [
    {
     "data": {
      "text/plain": [
       "(0.6864754098360656, 0.685169565372449)"
      ]
     },
     "execution_count": 17,
     "metadata": {},
     "output_type": "execute_result"
    }
   ],
   "source": [
    "dl_performance(fold_case, \"feature\")"
   ]
  },
  {
   "cell_type": "code",
   "execution_count": 18,
   "id": "cd61b702",
   "metadata": {},
   "outputs": [
    {
     "data": {
      "text/plain": [
       "(0.4651639344262295, 0.4424972370581516)"
      ]
     },
     "execution_count": 18,
     "metadata": {},
     "output_type": "execute_result"
    }
   ],
   "source": [
    "dl_performance(fold_case, \"encoder\")"
   ]
  },
  {
   "cell_type": "code",
   "execution_count": 19,
   "id": "74e2b594",
   "metadata": {},
   "outputs": [
    {
     "data": {
      "text/plain": [
       "(0.5799180327868853, 0.5722230724156877)"
      ]
     },
     "execution_count": 19,
     "metadata": {},
     "output_type": "execute_result"
    }
   ],
   "source": [
    "dl_performance(fold_case, \"none\")"
   ]
  },
  {
   "cell_type": "code",
   "execution_count": 20,
   "id": "3a42b620",
   "metadata": {},
   "outputs": [
    {
     "data": {
      "text/plain": [
       "(0.3360655737704918, 0.3215938384642456)"
      ]
     },
     "execution_count": 20,
     "metadata": {},
     "output_type": "execute_result"
    }
   ],
   "source": [
    "dl_performance(fold_case, \"all_model\")"
   ]
  },
  {
   "cell_type": "code",
   "execution_count": null,
   "id": "4e937e60",
   "metadata": {},
   "outputs": [],
   "source": []
  }
 ],
 "metadata": {
  "kernelspec": {
   "display_name": "Python 3",
   "language": "python",
   "name": "python3"
  },
  "language_info": {
   "codemirror_mode": {
    "name": "ipython",
    "version": 3
   },
   "file_extension": ".py",
   "mimetype": "text/x-python",
   "name": "python",
   "nbconvert_exporter": "python",
   "pygments_lexer": "ipython3",
   "version": "3.6.9"
  }
 },
 "nbformat": 4,
 "nbformat_minor": 5
}
